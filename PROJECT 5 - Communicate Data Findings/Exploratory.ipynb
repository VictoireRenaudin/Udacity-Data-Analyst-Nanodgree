{
 "cells": [
  {
   "cell_type": "markdown",
   "metadata": {},
   "source": [
    "# Exploratory - US Flights in 2008"
   ]
  },
  {
   "cell_type": "markdown",
   "metadata": {},
   "source": [
    "### By Victoire Renaudin"
   ]
  },
  {
   "cell_type": "markdown",
   "metadata": {},
   "source": [
    "In this project, I will analyze some data comes from RITA. I have downloaded the data for 2008 to analyze the situation of this year. \n",
    "\n",
    "As explained on the website of RITA, this dataset concerns airlines data with causes of delays and cancellations by flight number. \n",
    "\n",
    "I will try to compare flights delays and cancellations on some variables such as : \n",
    "- months\n",
    "- air carriers\n",
    "- delays reaons \n",
    "- cancellations reasons"
   ]
  },
  {
   "cell_type": "code",
   "execution_count": 1,
   "metadata": {},
   "outputs": [],
   "source": [
    "# importation of usefull librairies\n",
    "\n",
    "import pandas as pd \n",
    "import numpy as np \n",
    "import os \n",
    "import datetime\n",
    "import json\n",
    "import matplotlib.pyplot as plt\n",
    "import seaborn as sns "
   ]
  },
  {
   "cell_type": "code",
   "execution_count": 3,
   "metadata": {},
   "outputs": [],
   "source": [
    "# importation of the csv files \n",
    "\n",
    "df_2008 = pd.read_csv('2008.csv')"
   ]
  },
  {
   "cell_type": "code",
   "execution_count": 4,
   "metadata": {},
   "outputs": [
    {
     "data": {
      "text/plain": [
       "(7009728, 29)"
      ]
     },
     "execution_count": 4,
     "metadata": {},
     "output_type": "execute_result"
    }
   ],
   "source": [
    "# Structure of the dataset : how many rows and columns ? \n",
    "df_2008.shape"
   ]
  },
  {
   "cell_type": "code",
   "execution_count": 5,
   "metadata": {
    "scrolled": true
   },
   "outputs": [
    {
     "data": {
      "text/html": [
       "<div>\n",
       "<style scoped>\n",
       "    .dataframe tbody tr th:only-of-type {\n",
       "        vertical-align: middle;\n",
       "    }\n",
       "\n",
       "    .dataframe tbody tr th {\n",
       "        vertical-align: top;\n",
       "    }\n",
       "\n",
       "    .dataframe thead th {\n",
       "        text-align: right;\n",
       "    }\n",
       "</style>\n",
       "<table border=\"1\" class=\"dataframe\">\n",
       "  <thead>\n",
       "    <tr style=\"text-align: right;\">\n",
       "      <th></th>\n",
       "      <th>Year</th>\n",
       "      <th>Month</th>\n",
       "      <th>DayofMonth</th>\n",
       "      <th>DayOfWeek</th>\n",
       "      <th>DepTime</th>\n",
       "      <th>CRSDepTime</th>\n",
       "      <th>ArrTime</th>\n",
       "      <th>CRSArrTime</th>\n",
       "      <th>UniqueCarrier</th>\n",
       "      <th>FlightNum</th>\n",
       "      <th>...</th>\n",
       "      <th>TaxiIn</th>\n",
       "      <th>TaxiOut</th>\n",
       "      <th>Cancelled</th>\n",
       "      <th>CancellationCode</th>\n",
       "      <th>Diverted</th>\n",
       "      <th>CarrierDelay</th>\n",
       "      <th>WeatherDelay</th>\n",
       "      <th>NASDelay</th>\n",
       "      <th>SecurityDelay</th>\n",
       "      <th>LateAircraftDelay</th>\n",
       "    </tr>\n",
       "  </thead>\n",
       "  <tbody>\n",
       "    <tr>\n",
       "      <th>1457052</th>\n",
       "      <td>2008</td>\n",
       "      <td>3</td>\n",
       "      <td>16</td>\n",
       "      <td>7</td>\n",
       "      <td>2028.0</td>\n",
       "      <td>2023</td>\n",
       "      <td>2347.0</td>\n",
       "      <td>2325</td>\n",
       "      <td>US</td>\n",
       "      <td>218</td>\n",
       "      <td>...</td>\n",
       "      <td>5.0</td>\n",
       "      <td>43.0</td>\n",
       "      <td>0</td>\n",
       "      <td>NaN</td>\n",
       "      <td>0</td>\n",
       "      <td>5.0</td>\n",
       "      <td>0.0</td>\n",
       "      <td>17.0</td>\n",
       "      <td>0.0</td>\n",
       "      <td>0.0</td>\n",
       "    </tr>\n",
       "    <tr>\n",
       "      <th>1598879</th>\n",
       "      <td>2008</td>\n",
       "      <td>3</td>\n",
       "      <td>13</td>\n",
       "      <td>4</td>\n",
       "      <td>553.0</td>\n",
       "      <td>600</td>\n",
       "      <td>648.0</td>\n",
       "      <td>700</td>\n",
       "      <td>MQ</td>\n",
       "      <td>4660</td>\n",
       "      <td>...</td>\n",
       "      <td>2.0</td>\n",
       "      <td>14.0</td>\n",
       "      <td>0</td>\n",
       "      <td>NaN</td>\n",
       "      <td>0</td>\n",
       "      <td>NaN</td>\n",
       "      <td>NaN</td>\n",
       "      <td>NaN</td>\n",
       "      <td>NaN</td>\n",
       "      <td>NaN</td>\n",
       "    </tr>\n",
       "    <tr>\n",
       "      <th>940701</th>\n",
       "      <td>2008</td>\n",
       "      <td>2</td>\n",
       "      <td>3</td>\n",
       "      <td>7</td>\n",
       "      <td>550.0</td>\n",
       "      <td>600</td>\n",
       "      <td>832.0</td>\n",
       "      <td>817</td>\n",
       "      <td>FL</td>\n",
       "      <td>188</td>\n",
       "      <td>...</td>\n",
       "      <td>8.0</td>\n",
       "      <td>22.0</td>\n",
       "      <td>0</td>\n",
       "      <td>NaN</td>\n",
       "      <td>0</td>\n",
       "      <td>0.0</td>\n",
       "      <td>0.0</td>\n",
       "      <td>15.0</td>\n",
       "      <td>0.0</td>\n",
       "      <td>0.0</td>\n",
       "    </tr>\n",
       "    <tr>\n",
       "      <th>174324</th>\n",
       "      <td>2008</td>\n",
       "      <td>1</td>\n",
       "      <td>4</td>\n",
       "      <td>5</td>\n",
       "      <td>1124.0</td>\n",
       "      <td>1130</td>\n",
       "      <td>1135.0</td>\n",
       "      <td>1139</td>\n",
       "      <td>OO</td>\n",
       "      <td>3715</td>\n",
       "      <td>...</td>\n",
       "      <td>3.0</td>\n",
       "      <td>17.0</td>\n",
       "      <td>0</td>\n",
       "      <td>NaN</td>\n",
       "      <td>0</td>\n",
       "      <td>NaN</td>\n",
       "      <td>NaN</td>\n",
       "      <td>NaN</td>\n",
       "      <td>NaN</td>\n",
       "      <td>NaN</td>\n",
       "    </tr>\n",
       "    <tr>\n",
       "      <th>3287976</th>\n",
       "      <td>2008</td>\n",
       "      <td>6</td>\n",
       "      <td>26</td>\n",
       "      <td>4</td>\n",
       "      <td>610.0</td>\n",
       "      <td>610</td>\n",
       "      <td>742.0</td>\n",
       "      <td>737</td>\n",
       "      <td>US</td>\n",
       "      <td>981</td>\n",
       "      <td>...</td>\n",
       "      <td>7.0</td>\n",
       "      <td>21.0</td>\n",
       "      <td>0</td>\n",
       "      <td>NaN</td>\n",
       "      <td>0</td>\n",
       "      <td>NaN</td>\n",
       "      <td>NaN</td>\n",
       "      <td>NaN</td>\n",
       "      <td>NaN</td>\n",
       "      <td>NaN</td>\n",
       "    </tr>\n",
       "  </tbody>\n",
       "</table>\n",
       "<p>5 rows × 29 columns</p>\n",
       "</div>"
      ],
      "text/plain": [
       "         Year  Month  DayofMonth  DayOfWeek  DepTime  CRSDepTime  ArrTime  \\\n",
       "1457052  2008      3          16          7   2028.0        2023   2347.0   \n",
       "1598879  2008      3          13          4    553.0         600    648.0   \n",
       "940701   2008      2           3          7    550.0         600    832.0   \n",
       "174324   2008      1           4          5   1124.0        1130   1135.0   \n",
       "3287976  2008      6          26          4    610.0         610    742.0   \n",
       "\n",
       "         CRSArrTime UniqueCarrier  FlightNum  ... TaxiIn  TaxiOut  Cancelled  \\\n",
       "1457052        2325            US        218  ...    5.0     43.0          0   \n",
       "1598879         700            MQ       4660  ...    2.0     14.0          0   \n",
       "940701          817            FL        188  ...    8.0     22.0          0   \n",
       "174324         1139            OO       3715  ...    3.0     17.0          0   \n",
       "3287976         737            US        981  ...    7.0     21.0          0   \n",
       "\n",
       "         CancellationCode  Diverted  CarrierDelay WeatherDelay NASDelay  \\\n",
       "1457052               NaN         0           5.0          0.0     17.0   \n",
       "1598879               NaN         0           NaN          NaN      NaN   \n",
       "940701                NaN         0           0.0          0.0     15.0   \n",
       "174324                NaN         0           NaN          NaN      NaN   \n",
       "3287976               NaN         0           NaN          NaN      NaN   \n",
       "\n",
       "         SecurityDelay  LateAircraftDelay  \n",
       "1457052            0.0                0.0  \n",
       "1598879            NaN                NaN  \n",
       "940701             0.0                0.0  \n",
       "174324             NaN                NaN  \n",
       "3287976            NaN                NaN  \n",
       "\n",
       "[5 rows x 29 columns]"
      ]
     },
     "execution_count": 5,
     "metadata": {},
     "output_type": "execute_result"
    }
   ],
   "source": [
    "# Structure of the dataset : previe of some lines\n",
    "\n",
    "df_2008.sample(5)"
   ]
  },
  {
   "cell_type": "markdown",
   "metadata": {},
   "source": [
    "In this file, there is about 7 millions of flights. They are classified by months."
   ]
  },
  {
   "cell_type": "code",
   "execution_count": 9,
   "metadata": {},
   "outputs": [
    {
     "data": {
      "text/plain": [
       "Month\n",
       "1     605765\n",
       "2     569236\n",
       "3     616090\n",
       "4     598126\n",
       "5     606293\n",
       "6     608665\n",
       "7     627931\n",
       "8     612279\n",
       "9     540908\n",
       "10    556205\n",
       "11    523272\n",
       "12    544958\n",
       "Name: FlightNum, dtype: int64"
      ]
     },
     "execution_count": 9,
     "metadata": {},
     "output_type": "execute_result"
    }
   ],
   "source": [
    "df_2008.groupby('Month')['FlightNum'].count()"
   ]
  },
  {
   "cell_type": "code",
   "execution_count": 10,
   "metadata": {
    "scrolled": true
   },
   "outputs": [
    {
     "data": {
      "image/png": "[encoded data removed]",
      "text/plain": [
       "<Figure size 432x288 with 1 Axes>"
      ]
     },
     "metadata": {
      "needs_background": "light"
     },
     "output_type": "display_data"
    }
   ],
   "source": [
    "# Visualization of this data thank to a graph\n",
    "sns.countplot(data = df_2008, \n",
    "                  x = 'Month')\n",
    "\n",
    "plt.xlabel('2008 Months')\n",
    "plt.ylabel('nb of flights')\n",
    "plt.title('Number of flights by month')\n",
    "\n",
    "plt.show()"
   ]
  },
  {
   "cell_type": "markdown",
   "metadata": {},
   "source": [
    "An other parameter which could be analyzed is the carrier. \n",
    "As there are a lot of carriers in this dataset, I will create a whole. "
   ]
  },
  {
   "cell_type": "code",
   "execution_count": 11,
   "metadata": {},
   "outputs": [],
   "source": [
    "# Creation of a dataframe with one row by carrier \n",
    "df_carrier = df_2008['UniqueCarrier'].drop_duplicates().reset_index()"
   ]
  },
  {
   "cell_type": "code",
   "execution_count": 13,
   "metadata": {},
   "outputs": [
    {
     "data": {
      "text/plain": [
       "(20, 2)"
      ]
     },
     "execution_count": 13,
     "metadata": {},
     "output_type": "execute_result"
    }
   ],
   "source": [
    "df_carrier.shape"
   ]
  },
  {
   "cell_type": "markdown",
   "metadata": {},
   "source": [
    "There are 20 unique carriers in this dataset. "
   ]
  },
  {
   "cell_type": "code",
   "execution_count": 12,
   "metadata": {},
   "outputs": [],
   "source": [
    "# Creation of the list of the carrier \n",
    "Carrier_list = [] \n",
    "   \n",
    "for index, rows in df_carrier.iterrows(): \n",
    "    my_list = rows.UniqueCarrier\n",
    "    Carrier_list.append(my_list)"
   ]
  },
  {
   "cell_type": "code",
   "execution_count": 14,
   "metadata": {},
   "outputs": [
    {
     "data": {
      "image/png": "[encoded data removed]",
      "text/plain": [
       "<Figure size 432x288 with 1 Axes>"
      ]
     },
     "metadata": {
      "needs_background": "light"
     },
     "output_type": "display_data"
    }
   ],
   "source": [
    "# Creation of a graph representing this information\n",
    "sns.countplot(data = df_2008, \n",
    "                  x = 'UniqueCarrier')\n",
    "\n",
    "plt.xlabel('Carrier')\n",
    "plt.ylabel('nb of flights')\n",
    "plt.title('Number of flights per Carrier in 2008')\n",
    "\n",
    "plt.show()"
   ]
  },
  {
   "cell_type": "code",
   "execution_count": 16,
   "metadata": {
    "scrolled": true
   },
   "outputs": [
    {
     "data": {
      "image/png": "[encoded data removed]",
      "text/plain": [
       "<Figure size 432x288 with 1 Axes>"
      ]
     },
     "metadata": {},
     "output_type": "display_data"
    }
   ],
   "source": [
    "# Repartition of the flights by carrier thanks to a pie chart\n",
    "df_2008.groupby('UniqueCarrier')['FlightNum'].count().sort_values(ascending = False).plot(kind='pie',\n",
    "                                                                autopct='%1.0f%%')\n",
    "plt.title('Number of flights per Carrier in 2008')\n",
    "plt.axis('equal')\n",
    "plt.show()"
   ]
  },
  {
   "cell_type": "markdown",
   "metadata": {},
   "source": [
    "Another parameter which I could analyzed is the flights duration. \n",
    "As it is a continuous variable, I will create an hist plot."
   ]
  },
  {
   "cell_type": "code",
   "execution_count": 17,
   "metadata": {
    "scrolled": true
   },
   "outputs": [
    {
     "data": {
      "image/png": "[encoded data removed]",
      "text/plain": [
       "<Figure size 432x288 with 1 Axes>"
      ]
     },
     "metadata": {
      "needs_background": "light"
     },
     "output_type": "display_data"
    }
   ],
   "source": [
    "bin = np.arange(0, df_2008['AirTime'].max(), 5)\n",
    "plt.hist(data = df_2008, \n",
    "         x = 'AirTime', \n",
    "         bins = bin)\n",
    "\n",
    "plt.xlabel('AirTime in minutes')\n",
    "plt.ylabel('Nb of flights')\n",
    "plt.title('Distribution of flights duration')\n",
    "\n",
    "plt.show()"
   ]
  },
  {
   "cell_type": "code",
   "execution_count": 13,
   "metadata": {
    "scrolled": true
   },
   "outputs": [
    {
     "data": {
      "text/plain": [
       "104.0185891263188"
      ]
     },
     "execution_count": 13,
     "metadata": {},
     "output_type": "execute_result"
    }
   ],
   "source": [
    "df_2008['AirTime'].mean()"
   ]
  },
  {
   "cell_type": "markdown",
   "metadata": {},
   "source": [
    "We can observe a lot of flights around 100 minutes, but it is difficult to discern very well the distribution. \n",
    "As learnt during the lessons, I will try to observe this distribution thanks to a logarithmique distribution."
   ]
  },
  {
   "cell_type": "code",
   "execution_count": 18,
   "metadata": {
    "scrolled": true
   },
   "outputs": [
    {
     "data": {
      "image/png": "[encoded data removed]",
      "text/plain": [
       "<Figure size 432x288 with 1 Axes>"
      ]
     },
     "metadata": {
      "needs_background": "light"
     },
     "output_type": "display_data"
    }
   ],
   "source": [
    "bin = np.arange(0, df_2008['AirTime'].max(), 5)\n",
    "plt.hist(data = df_2008, \n",
    "         x = 'AirTime', \n",
    "         bins = bin)\n",
    "\n",
    "plt.xscale('log')\n",
    "plt.xlabel('AirTime in log(minutes)')\n",
    "plt.ylabel('Nb of flights')\n",
    "plt.title('Log Distribution of flights duration')\n",
    "\n",
    "plt.show()"
   ]
  },
  {
   "cell_type": "code",
   "execution_count": 19,
   "metadata": {},
   "outputs": [],
   "source": [
    "df_delay = df_2008.groupby(['Month'])['ArrDelay'].mean().reset_index( name = 'Avg_ArrDelay') "
   ]
  },
  {
   "cell_type": "code",
   "execution_count": 21,
   "metadata": {},
   "outputs": [],
   "source": [
    "min_ArrDelay = df_delay['Avg_ArrDelay'].min()\n",
    "max_ArrDelay = df_delay['Avg_ArrDelay'].max()"
   ]
  },
  {
   "cell_type": "code",
   "execution_count": 22,
   "metadata": {
    "scrolled": true
   },
   "outputs": [
    {
     "data": {
      "image/png": "[encoded data removed]",
      "text/plain": [
       "<Figure size 432x288 with 1 Axes>"
      ]
     },
     "metadata": {
      "needs_background": "light"
     },
     "output_type": "display_data"
    }
   ],
   "source": [
    "plt.plot(df_delay['Month'], \n",
    "             df_delay['Avg_ArrDelay'])\n",
    "\n",
    "plt.title('Distribution of Arrival Delay in average (all carriers mixed)')\n",
    "plt.ylabel('Arrival Delay (in min)')\n",
    "plt.xlabel('2018 Month')\n",
    "plt.ylim(ymin = min_ArrDelay - 5,\n",
    "         ymax = max_ArrDelay + 5)\n",
    "plt.show()"
   ]
  },
  {
   "cell_type": "code",
   "execution_count": 23,
   "metadata": {
    "scrolled": true
   },
   "outputs": [
    {
     "data": {
      "text/plain": [
       "8.100592924240631"
      ]
     },
     "execution_count": 23,
     "metadata": {},
     "output_type": "execute_result"
    }
   ],
   "source": [
    "df_delay['Avg_ArrDelay'].mean()"
   ]
  },
  {
   "cell_type": "markdown",
   "metadata": {},
   "source": [
    "The average arrival delay is of 8 minutes but there are some variations during the months. \n",
    "I have analyzed the mean at a total level, but there could be some main differences by air carrier which I will focus on."
   ]
  },
  {
   "cell_type": "code",
   "execution_count": 62,
   "metadata": {},
   "outputs": [
    {
     "data": {
      "text/plain": [
       "UniqueCarrier\n",
       "9E     4.111135\n",
       "AA    12.607194\n",
       "AQ    -2.888674\n",
       "AS     4.804346\n",
       "B6    11.084184\n",
       "CO    10.979037\n",
       "DL     7.855163\n",
       "EV    10.208002\n",
       "F9     6.108247\n",
       "FL     9.091375\n",
       "HA     1.264409\n",
       "MQ     9.890668\n",
       "NW     7.368539\n",
       "OH    11.817468\n",
       "OO     6.598885\n",
       "UA    11.291322\n",
       "US     2.848110\n",
       "WN     5.179678\n",
       "XE    10.635405\n",
       "YV    11.775181\n",
       "Name: ArrDelay, dtype: float64"
      ]
     },
     "execution_count": 62,
     "metadata": {},
     "output_type": "execute_result"
    }
   ],
   "source": [
    "df_2008.groupby(['UniqueCarrier'])['ArrDelay'].mean()"
   ]
  },
  {
   "cell_type": "code",
   "execution_count": 24,
   "metadata": {},
   "outputs": [],
   "source": [
    "df_carrier_arrdelay = df_2008.groupby(['UniqueCarrier', 'Month'])['ArrDelay'].mean().reset_index( name = 'Avg_ArrDelay')"
   ]
  },
  {
   "cell_type": "code",
   "execution_count": 60,
   "metadata": {},
   "outputs": [
    {
     "data": {
      "text/html": [
       "<div>\n",
       "<style scoped>\n",
       "    .dataframe tbody tr th:only-of-type {\n",
       "        vertical-align: middle;\n",
       "    }\n",
       "\n",
       "    .dataframe tbody tr th {\n",
       "        vertical-align: top;\n",
       "    }\n",
       "\n",
       "    .dataframe thead th {\n",
       "        text-align: right;\n",
       "    }\n",
       "</style>\n",
       "<table border=\"1\" class=\"dataframe\">\n",
       "  <thead>\n",
       "    <tr style=\"text-align: right;\">\n",
       "      <th></th>\n",
       "      <th>UniqueCarrier</th>\n",
       "      <th>Month</th>\n",
       "      <th>Avg_ArrDelay</th>\n",
       "    </tr>\n",
       "  </thead>\n",
       "  <tbody>\n",
       "    <tr>\n",
       "      <th>0</th>\n",
       "      <td>9E</td>\n",
       "      <td>1</td>\n",
       "      <td>12.267573</td>\n",
       "    </tr>\n",
       "    <tr>\n",
       "      <th>1</th>\n",
       "      <td>9E</td>\n",
       "      <td>2</td>\n",
       "      <td>15.893290</td>\n",
       "    </tr>\n",
       "    <tr>\n",
       "      <th>2</th>\n",
       "      <td>9E</td>\n",
       "      <td>3</td>\n",
       "      <td>9.517853</td>\n",
       "    </tr>\n",
       "    <tr>\n",
       "      <th>3</th>\n",
       "      <td>9E</td>\n",
       "      <td>4</td>\n",
       "      <td>3.283838</td>\n",
       "    </tr>\n",
       "    <tr>\n",
       "      <th>4</th>\n",
       "      <td>9E</td>\n",
       "      <td>5</td>\n",
       "      <td>-0.129141</td>\n",
       "    </tr>\n",
       "    <tr>\n",
       "      <th>5</th>\n",
       "      <td>9E</td>\n",
       "      <td>6</td>\n",
       "      <td>4.135322</td>\n",
       "    </tr>\n",
       "    <tr>\n",
       "      <th>6</th>\n",
       "      <td>9E</td>\n",
       "      <td>7</td>\n",
       "      <td>0.489986</td>\n",
       "    </tr>\n",
       "    <tr>\n",
       "      <th>7</th>\n",
       "      <td>9E</td>\n",
       "      <td>8</td>\n",
       "      <td>-3.920885</td>\n",
       "    </tr>\n",
       "    <tr>\n",
       "      <th>8</th>\n",
       "      <td>9E</td>\n",
       "      <td>9</td>\n",
       "      <td>-4.676045</td>\n",
       "    </tr>\n",
       "    <tr>\n",
       "      <th>9</th>\n",
       "      <td>9E</td>\n",
       "      <td>10</td>\n",
       "      <td>-4.046999</td>\n",
       "    </tr>\n",
       "    <tr>\n",
       "      <th>10</th>\n",
       "      <td>9E</td>\n",
       "      <td>11</td>\n",
       "      <td>0.380369</td>\n",
       "    </tr>\n",
       "    <tr>\n",
       "      <th>11</th>\n",
       "      <td>9E</td>\n",
       "      <td>12</td>\n",
       "      <td>17.138097</td>\n",
       "    </tr>\n",
       "    <tr>\n",
       "      <th>12</th>\n",
       "      <td>AA</td>\n",
       "      <td>1</td>\n",
       "      <td>15.071998</td>\n",
       "    </tr>\n",
       "    <tr>\n",
       "      <th>13</th>\n",
       "      <td>AA</td>\n",
       "      <td>2</td>\n",
       "      <td>18.253438</td>\n",
       "    </tr>\n",
       "    <tr>\n",
       "      <th>14</th>\n",
       "      <td>AA</td>\n",
       "      <td>3</td>\n",
       "      <td>17.930716</td>\n",
       "    </tr>\n",
       "    <tr>\n",
       "      <th>15</th>\n",
       "      <td>AA</td>\n",
       "      <td>4</td>\n",
       "      <td>13.104009</td>\n",
       "    </tr>\n",
       "    <tr>\n",
       "      <th>16</th>\n",
       "      <td>AA</td>\n",
       "      <td>5</td>\n",
       "      <td>14.559009</td>\n",
       "    </tr>\n",
       "    <tr>\n",
       "      <th>17</th>\n",
       "      <td>AA</td>\n",
       "      <td>6</td>\n",
       "      <td>24.142828</td>\n",
       "    </tr>\n",
       "    <tr>\n",
       "      <th>18</th>\n",
       "      <td>AA</td>\n",
       "      <td>7</td>\n",
       "      <td>14.770654</td>\n",
       "    </tr>\n",
       "    <tr>\n",
       "      <th>19</th>\n",
       "      <td>AA</td>\n",
       "      <td>8</td>\n",
       "      <td>12.839898</td>\n",
       "    </tr>\n",
       "    <tr>\n",
       "      <th>20</th>\n",
       "      <td>AA</td>\n",
       "      <td>9</td>\n",
       "      <td>4.031765</td>\n",
       "    </tr>\n",
       "    <tr>\n",
       "      <th>21</th>\n",
       "      <td>AA</td>\n",
       "      <td>10</td>\n",
       "      <td>2.583696</td>\n",
       "    </tr>\n",
       "    <tr>\n",
       "      <th>22</th>\n",
       "      <td>AA</td>\n",
       "      <td>11</td>\n",
       "      <td>-0.222754</td>\n",
       "    </tr>\n",
       "    <tr>\n",
       "      <th>23</th>\n",
       "      <td>AA</td>\n",
       "      <td>12</td>\n",
       "      <td>12.694496</td>\n",
       "    </tr>\n",
       "    <tr>\n",
       "      <th>24</th>\n",
       "      <td>AQ</td>\n",
       "      <td>1</td>\n",
       "      <td>-2.512500</td>\n",
       "    </tr>\n",
       "    <tr>\n",
       "      <th>25</th>\n",
       "      <td>AQ</td>\n",
       "      <td>2</td>\n",
       "      <td>-3.289712</td>\n",
       "    </tr>\n",
       "    <tr>\n",
       "      <th>26</th>\n",
       "      <td>AS</td>\n",
       "      <td>1</td>\n",
       "      <td>8.177964</td>\n",
       "    </tr>\n",
       "    <tr>\n",
       "      <th>27</th>\n",
       "      <td>AS</td>\n",
       "      <td>2</td>\n",
       "      <td>5.356540</td>\n",
       "    </tr>\n",
       "    <tr>\n",
       "      <th>28</th>\n",
       "      <td>AS</td>\n",
       "      <td>3</td>\n",
       "      <td>5.362207</td>\n",
       "    </tr>\n",
       "    <tr>\n",
       "      <th>29</th>\n",
       "      <td>AS</td>\n",
       "      <td>4</td>\n",
       "      <td>2.513167</td>\n",
       "    </tr>\n",
       "    <tr>\n",
       "      <th>...</th>\n",
       "      <td>...</td>\n",
       "      <td>...</td>\n",
       "      <td>...</td>\n",
       "    </tr>\n",
       "    <tr>\n",
       "      <th>200</th>\n",
       "      <td>WN</td>\n",
       "      <td>7</td>\n",
       "      <td>4.452328</td>\n",
       "    </tr>\n",
       "    <tr>\n",
       "      <th>201</th>\n",
       "      <td>WN</td>\n",
       "      <td>8</td>\n",
       "      <td>2.549090</td>\n",
       "    </tr>\n",
       "    <tr>\n",
       "      <th>202</th>\n",
       "      <td>WN</td>\n",
       "      <td>9</td>\n",
       "      <td>-2.483789</td>\n",
       "    </tr>\n",
       "    <tr>\n",
       "      <th>203</th>\n",
       "      <td>WN</td>\n",
       "      <td>10</td>\n",
       "      <td>-2.070136</td>\n",
       "    </tr>\n",
       "    <tr>\n",
       "      <th>204</th>\n",
       "      <td>WN</td>\n",
       "      <td>11</td>\n",
       "      <td>-0.653120</td>\n",
       "    </tr>\n",
       "    <tr>\n",
       "      <th>205</th>\n",
       "      <td>WN</td>\n",
       "      <td>12</td>\n",
       "      <td>15.900019</td>\n",
       "    </tr>\n",
       "    <tr>\n",
       "      <th>206</th>\n",
       "      <td>XE</td>\n",
       "      <td>1</td>\n",
       "      <td>9.886930</td>\n",
       "    </tr>\n",
       "    <tr>\n",
       "      <th>207</th>\n",
       "      <td>XE</td>\n",
       "      <td>2</td>\n",
       "      <td>13.537212</td>\n",
       "    </tr>\n",
       "    <tr>\n",
       "      <th>208</th>\n",
       "      <td>XE</td>\n",
       "      <td>3</td>\n",
       "      <td>15.665329</td>\n",
       "    </tr>\n",
       "    <tr>\n",
       "      <th>209</th>\n",
       "      <td>XE</td>\n",
       "      <td>4</td>\n",
       "      <td>8.477474</td>\n",
       "    </tr>\n",
       "    <tr>\n",
       "      <th>210</th>\n",
       "      <td>XE</td>\n",
       "      <td>5</td>\n",
       "      <td>9.136997</td>\n",
       "    </tr>\n",
       "    <tr>\n",
       "      <th>211</th>\n",
       "      <td>XE</td>\n",
       "      <td>6</td>\n",
       "      <td>16.938997</td>\n",
       "    </tr>\n",
       "    <tr>\n",
       "      <th>212</th>\n",
       "      <td>XE</td>\n",
       "      <td>7</td>\n",
       "      <td>9.693748</td>\n",
       "    </tr>\n",
       "    <tr>\n",
       "      <th>213</th>\n",
       "      <td>XE</td>\n",
       "      <td>8</td>\n",
       "      <td>12.588461</td>\n",
       "    </tr>\n",
       "    <tr>\n",
       "      <th>214</th>\n",
       "      <td>XE</td>\n",
       "      <td>9</td>\n",
       "      <td>0.866274</td>\n",
       "    </tr>\n",
       "    <tr>\n",
       "      <th>215</th>\n",
       "      <td>XE</td>\n",
       "      <td>10</td>\n",
       "      <td>4.341964</td>\n",
       "    </tr>\n",
       "    <tr>\n",
       "      <th>216</th>\n",
       "      <td>XE</td>\n",
       "      <td>11</td>\n",
       "      <td>2.727735</td>\n",
       "    </tr>\n",
       "    <tr>\n",
       "      <th>217</th>\n",
       "      <td>XE</td>\n",
       "      <td>12</td>\n",
       "      <td>18.267809</td>\n",
       "    </tr>\n",
       "    <tr>\n",
       "      <th>218</th>\n",
       "      <td>YV</td>\n",
       "      <td>1</td>\n",
       "      <td>14.497242</td>\n",
       "    </tr>\n",
       "    <tr>\n",
       "      <th>219</th>\n",
       "      <td>YV</td>\n",
       "      <td>2</td>\n",
       "      <td>18.773418</td>\n",
       "    </tr>\n",
       "    <tr>\n",
       "      <th>220</th>\n",
       "      <td>YV</td>\n",
       "      <td>3</td>\n",
       "      <td>8.707477</td>\n",
       "    </tr>\n",
       "    <tr>\n",
       "      <th>221</th>\n",
       "      <td>YV</td>\n",
       "      <td>4</td>\n",
       "      <td>11.294945</td>\n",
       "    </tr>\n",
       "    <tr>\n",
       "      <th>222</th>\n",
       "      <td>YV</td>\n",
       "      <td>5</td>\n",
       "      <td>8.521444</td>\n",
       "    </tr>\n",
       "    <tr>\n",
       "      <th>223</th>\n",
       "      <td>YV</td>\n",
       "      <td>6</td>\n",
       "      <td>18.300154</td>\n",
       "    </tr>\n",
       "    <tr>\n",
       "      <th>224</th>\n",
       "      <td>YV</td>\n",
       "      <td>7</td>\n",
       "      <td>13.625668</td>\n",
       "    </tr>\n",
       "    <tr>\n",
       "      <th>225</th>\n",
       "      <td>YV</td>\n",
       "      <td>8</td>\n",
       "      <td>9.244423</td>\n",
       "    </tr>\n",
       "    <tr>\n",
       "      <th>226</th>\n",
       "      <td>YV</td>\n",
       "      <td>9</td>\n",
       "      <td>8.627181</td>\n",
       "    </tr>\n",
       "    <tr>\n",
       "      <th>227</th>\n",
       "      <td>YV</td>\n",
       "      <td>10</td>\n",
       "      <td>5.471548</td>\n",
       "    </tr>\n",
       "    <tr>\n",
       "      <th>228</th>\n",
       "      <td>YV</td>\n",
       "      <td>11</td>\n",
       "      <td>4.201163</td>\n",
       "    </tr>\n",
       "    <tr>\n",
       "      <th>229</th>\n",
       "      <td>YV</td>\n",
       "      <td>12</td>\n",
       "      <td>20.113955</td>\n",
       "    </tr>\n",
       "  </tbody>\n",
       "</table>\n",
       "<p>230 rows × 3 columns</p>\n",
       "</div>"
      ],
      "text/plain": [
       "    UniqueCarrier  Month  Avg_ArrDelay\n",
       "0              9E      1     12.267573\n",
       "1              9E      2     15.893290\n",
       "2              9E      3      9.517853\n",
       "3              9E      4      3.283838\n",
       "4              9E      5     -0.129141\n",
       "5              9E      6      4.135322\n",
       "6              9E      7      0.489986\n",
       "7              9E      8     -3.920885\n",
       "8              9E      9     -4.676045\n",
       "9              9E     10     -4.046999\n",
       "10             9E     11      0.380369\n",
       "11             9E     12     17.138097\n",
       "12             AA      1     15.071998\n",
       "13             AA      2     18.253438\n",
       "14             AA      3     17.930716\n",
       "15             AA      4     13.104009\n",
       "16             AA      5     14.559009\n",
       "17             AA      6     24.142828\n",
       "18             AA      7     14.770654\n",
       "19             AA      8     12.839898\n",
       "20             AA      9      4.031765\n",
       "21             AA     10      2.583696\n",
       "22             AA     11     -0.222754\n",
       "23             AA     12     12.694496\n",
       "24             AQ      1     -2.512500\n",
       "25             AQ      2     -3.289712\n",
       "26             AS      1      8.177964\n",
       "27             AS      2      5.356540\n",
       "28             AS      3      5.362207\n",
       "29             AS      4      2.513167\n",
       "..            ...    ...           ...\n",
       "200            WN      7      4.452328\n",
       "201            WN      8      2.549090\n",
       "202            WN      9     -2.483789\n",
       "203            WN     10     -2.070136\n",
       "204            WN     11     -0.653120\n",
       "205            WN     12     15.900019\n",
       "206            XE      1      9.886930\n",
       "207            XE      2     13.537212\n",
       "208            XE      3     15.665329\n",
       "209            XE      4      8.477474\n",
       "210            XE      5      9.136997\n",
       "211            XE      6     16.938997\n",
       "212            XE      7      9.693748\n",
       "213            XE      8     12.588461\n",
       "214            XE      9      0.866274\n",
       "215            XE     10      4.341964\n",
       "216            XE     11      2.727735\n",
       "217            XE     12     18.267809\n",
       "218            YV      1     14.497242\n",
       "219            YV      2     18.773418\n",
       "220            YV      3      8.707477\n",
       "221            YV      4     11.294945\n",
       "222            YV      5      8.521444\n",
       "223            YV      6     18.300154\n",
       "224            YV      7     13.625668\n",
       "225            YV      8      9.244423\n",
       "226            YV      9      8.627181\n",
       "227            YV     10      5.471548\n",
       "228            YV     11      4.201163\n",
       "229            YV     12     20.113955\n",
       "\n",
       "[230 rows x 3 columns]"
      ]
     },
     "execution_count": 60,
     "metadata": {},
     "output_type": "execute_result"
    }
   ],
   "source": [
    "df_carrier_arrdelay"
   ]
  },
  {
   "cell_type": "code",
   "execution_count": 25,
   "metadata": {},
   "outputs": [],
   "source": [
    "max_ArrDelay = df_carrier_arrdelay['Avg_ArrDelay'].max()\n",
    "min_ArrDelay = df_carrier_arrdelay['Avg_ArrDelay'].min()\n",
    "\n",
    "\n"
   ]
  },
  {
   "cell_type": "code",
   "execution_count": 27,
   "metadata": {
    "scrolled": true
   },
   "outputs": [
    {
     "data": {
      "image/png": "[encoded data removed]",
      "text/plain": [
       "<Figure size 432x288 with 1 Axes>"
      ]
     },
     "metadata": {
      "needs_background": "light"
     },
     "output_type": "display_data"
    }
   ],
   "source": [
    "for i in Carrier_list: \n",
    "    plt.plot(df_carrier_arrdelay[df_carrier_arrdelay['UniqueCarrier'] == i]['Month'], \n",
    "             df_carrier_arrdelay[df_carrier_arrdelay['UniqueCarrier'] == i]['Avg_ArrDelay'],\n",
    "            label = i)\n",
    "\n",
    "plt.title('Arrival Delay in average by carrier and month')\n",
    "plt.ylabel('Arrival Delay (in min)')\n",
    "plt.xlabel('2018 Month')\n",
    "plt.ylim(ymin = min_ArrDelay - 5,\n",
    "         ymax = max_ArrDelay + 5)\n",
    "plt.legend(loc='center left', bbox_to_anchor=(1, 0.5))\n",
    "plt.show()"
   ]
  },
  {
   "cell_type": "markdown",
   "metadata": {},
   "source": [
    "There are a seasonnality of the arrival delay, but also a lof of differences between the differents air carriers. \n",
    "\n",
    "As it is quite hard to understand the global situation, I will distinguished flights arrival delay : \n",
    "either there are on time, either there are late. \n",
    "\n",
    "I will consider that a flight is delayed after a delay of 15 minutes. "
   ]
  },
  {
   "cell_type": "code",
   "execution_count": 30,
   "metadata": {},
   "outputs": [
    {
     "name": "stderr",
     "output_type": "stream",
     "text": [
      "/Users/victoire/anaconda3/lib/python3.7/site-packages/ipykernel_launcher.py:2: SettingWithCopyWarning: \n",
      "A value is trying to be set on a copy of a slice from a DataFrame\n",
      "\n",
      "See the caveats in the documentation: http://pandas.pydata.org/pandas-docs/stable/indexing.html#indexing-view-versus-copy\n",
      "  \n"
     ]
    }
   ],
   "source": [
    "df_2008['on_time'] = 0\n",
    "df_2008['on_time'][df_2008['ArrDelay'] <= 15] = 1 "
   ]
  },
  {
   "cell_type": "code",
   "execution_count": 31,
   "metadata": {},
   "outputs": [
    {
     "data": {
      "text/html": [
       "<div>\n",
       "<style scoped>\n",
       "    .dataframe tbody tr th:only-of-type {\n",
       "        vertical-align: middle;\n",
       "    }\n",
       "\n",
       "    .dataframe tbody tr th {\n",
       "        vertical-align: top;\n",
       "    }\n",
       "\n",
       "    .dataframe thead th {\n",
       "        text-align: right;\n",
       "    }\n",
       "</style>\n",
       "<table border=\"1\" class=\"dataframe\">\n",
       "  <thead>\n",
       "    <tr style=\"text-align: right;\">\n",
       "      <th></th>\n",
       "      <th>on_time</th>\n",
       "      <th>nb_flights</th>\n",
       "    </tr>\n",
       "  </thead>\n",
       "  <tbody>\n",
       "    <tr>\n",
       "      <th>0</th>\n",
       "      <td>0</td>\n",
       "      <td>1620890</td>\n",
       "    </tr>\n",
       "    <tr>\n",
       "      <th>1</th>\n",
       "      <td>1</td>\n",
       "      <td>5388838</td>\n",
       "    </tr>\n",
       "  </tbody>\n",
       "</table>\n",
       "</div>"
      ],
      "text/plain": [
       "   on_time  nb_flights\n",
       "0        0     1620890\n",
       "1        1     5388838"
      ]
     },
     "execution_count": 31,
     "metadata": {},
     "output_type": "execute_result"
    }
   ],
   "source": [
    "df_2008.groupby(['on_time']).size().reset_index(name = 'nb_flights')"
   ]
  },
  {
   "cell_type": "code",
   "execution_count": 32,
   "metadata": {},
   "outputs": [],
   "source": [
    "df_carrier_ontime = df_2008.groupby(['UniqueCarrier', 'on_time', 'Month']).size().reset_index(name = 'nb_flights')"
   ]
  },
  {
   "cell_type": "code",
   "execution_count": 33,
   "metadata": {},
   "outputs": [],
   "source": [
    "df_carrier_ontime = 100 * df_carrier_ontime[df_carrier_ontime['on_time'] == 1].groupby(['UniqueCarrier', 'Month'])['nb_flights'].sum()/df_carrier_ontime.groupby(['UniqueCarrier', 'Month'])['nb_flights'].sum()"
   ]
  },
  {
   "cell_type": "code",
   "execution_count": 34,
   "metadata": {
    "scrolled": true
   },
   "outputs": [],
   "source": [
    "df_carrier_ontime = df_carrier_ontime.reset_index( name = 'percent_on_time')"
   ]
  },
  {
   "cell_type": "code",
   "execution_count": 59,
   "metadata": {},
   "outputs": [
    {
     "data": {
      "text/html": [
       "<div>\n",
       "<style scoped>\n",
       "    .dataframe tbody tr th:only-of-type {\n",
       "        vertical-align: middle;\n",
       "    }\n",
       "\n",
       "    .dataframe tbody tr th {\n",
       "        vertical-align: top;\n",
       "    }\n",
       "\n",
       "    .dataframe thead th {\n",
       "        text-align: right;\n",
       "    }\n",
       "</style>\n",
       "<table border=\"1\" class=\"dataframe\">\n",
       "  <thead>\n",
       "    <tr style=\"text-align: right;\">\n",
       "      <th></th>\n",
       "      <th>UniqueCarrier</th>\n",
       "      <th>Month</th>\n",
       "      <th>percent_on_time</th>\n",
       "    </tr>\n",
       "  </thead>\n",
       "  <tbody>\n",
       "    <tr>\n",
       "      <th>0</th>\n",
       "      <td>9E</td>\n",
       "      <td>1</td>\n",
       "      <td>70.036765</td>\n",
       "    </tr>\n",
       "    <tr>\n",
       "      <th>1</th>\n",
       "      <td>9E</td>\n",
       "      <td>2</td>\n",
       "      <td>64.656321</td>\n",
       "    </tr>\n",
       "    <tr>\n",
       "      <th>2</th>\n",
       "      <td>9E</td>\n",
       "      <td>3</td>\n",
       "      <td>72.170942</td>\n",
       "    </tr>\n",
       "    <tr>\n",
       "      <th>3</th>\n",
       "      <td>9E</td>\n",
       "      <td>4</td>\n",
       "      <td>81.109746</td>\n",
       "    </tr>\n",
       "    <tr>\n",
       "      <th>4</th>\n",
       "      <td>9E</td>\n",
       "      <td>5</td>\n",
       "      <td>86.462273</td>\n",
       "    </tr>\n",
       "    <tr>\n",
       "      <th>5</th>\n",
       "      <td>9E</td>\n",
       "      <td>6</td>\n",
       "      <td>81.312192</td>\n",
       "    </tr>\n",
       "    <tr>\n",
       "      <th>6</th>\n",
       "      <td>9E</td>\n",
       "      <td>7</td>\n",
       "      <td>86.158581</td>\n",
       "    </tr>\n",
       "    <tr>\n",
       "      <th>7</th>\n",
       "      <td>9E</td>\n",
       "      <td>8</td>\n",
       "      <td>90.049403</td>\n",
       "    </tr>\n",
       "    <tr>\n",
       "      <th>8</th>\n",
       "      <td>9E</td>\n",
       "      <td>9</td>\n",
       "      <td>90.932195</td>\n",
       "    </tr>\n",
       "    <tr>\n",
       "      <th>9</th>\n",
       "      <td>9E</td>\n",
       "      <td>10</td>\n",
       "      <td>91.168527</td>\n",
       "    </tr>\n",
       "    <tr>\n",
       "      <th>10</th>\n",
       "      <td>9E</td>\n",
       "      <td>11</td>\n",
       "      <td>85.611342</td>\n",
       "    </tr>\n",
       "    <tr>\n",
       "      <th>11</th>\n",
       "      <td>9E</td>\n",
       "      <td>12</td>\n",
       "      <td>64.021188</td>\n",
       "    </tr>\n",
       "    <tr>\n",
       "      <th>12</th>\n",
       "      <td>AA</td>\n",
       "      <td>1</td>\n",
       "      <td>67.294409</td>\n",
       "    </tr>\n",
       "    <tr>\n",
       "      <th>13</th>\n",
       "      <td>AA</td>\n",
       "      <td>2</td>\n",
       "      <td>62.674318</td>\n",
       "    </tr>\n",
       "    <tr>\n",
       "      <th>14</th>\n",
       "      <td>AA</td>\n",
       "      <td>3</td>\n",
       "      <td>62.989946</td>\n",
       "    </tr>\n",
       "    <tr>\n",
       "      <th>15</th>\n",
       "      <td>AA</td>\n",
       "      <td>4</td>\n",
       "      <td>66.388187</td>\n",
       "    </tr>\n",
       "    <tr>\n",
       "      <th>16</th>\n",
       "      <td>AA</td>\n",
       "      <td>5</td>\n",
       "      <td>68.362441</td>\n",
       "    </tr>\n",
       "    <tr>\n",
       "      <th>17</th>\n",
       "      <td>AA</td>\n",
       "      <td>6</td>\n",
       "      <td>59.873726</td>\n",
       "    </tr>\n",
       "    <tr>\n",
       "      <th>18</th>\n",
       "      <td>AA</td>\n",
       "      <td>7</td>\n",
       "      <td>70.461416</td>\n",
       "    </tr>\n",
       "    <tr>\n",
       "      <th>19</th>\n",
       "      <td>AA</td>\n",
       "      <td>8</td>\n",
       "      <td>71.468056</td>\n",
       "    </tr>\n",
       "    <tr>\n",
       "      <th>20</th>\n",
       "      <td>AA</td>\n",
       "      <td>9</td>\n",
       "      <td>82.219226</td>\n",
       "    </tr>\n",
       "    <tr>\n",
       "      <th>21</th>\n",
       "      <td>AA</td>\n",
       "      <td>10</td>\n",
       "      <td>84.472162</td>\n",
       "    </tr>\n",
       "    <tr>\n",
       "      <th>22</th>\n",
       "      <td>AA</td>\n",
       "      <td>11</td>\n",
       "      <td>85.062009</td>\n",
       "    </tr>\n",
       "    <tr>\n",
       "      <th>23</th>\n",
       "      <td>AA</td>\n",
       "      <td>12</td>\n",
       "      <td>70.662807</td>\n",
       "    </tr>\n",
       "    <tr>\n",
       "      <th>24</th>\n",
       "      <td>AQ</td>\n",
       "      <td>1</td>\n",
       "      <td>93.545184</td>\n",
       "    </tr>\n",
       "    <tr>\n",
       "      <th>25</th>\n",
       "      <td>AQ</td>\n",
       "      <td>2</td>\n",
       "      <td>95.811241</td>\n",
       "    </tr>\n",
       "    <tr>\n",
       "      <th>26</th>\n",
       "      <td>AS</td>\n",
       "      <td>1</td>\n",
       "      <td>73.964962</td>\n",
       "    </tr>\n",
       "    <tr>\n",
       "      <th>27</th>\n",
       "      <td>AS</td>\n",
       "      <td>2</td>\n",
       "      <td>77.579532</td>\n",
       "    </tr>\n",
       "    <tr>\n",
       "      <th>28</th>\n",
       "      <td>AS</td>\n",
       "      <td>3</td>\n",
       "      <td>78.929215</td>\n",
       "    </tr>\n",
       "    <tr>\n",
       "      <th>29</th>\n",
       "      <td>AS</td>\n",
       "      <td>4</td>\n",
       "      <td>82.463849</td>\n",
       "    </tr>\n",
       "    <tr>\n",
       "      <th>...</th>\n",
       "      <td>...</td>\n",
       "      <td>...</td>\n",
       "      <td>...</td>\n",
       "    </tr>\n",
       "    <tr>\n",
       "      <th>200</th>\n",
       "      <td>WN</td>\n",
       "      <td>7</td>\n",
       "      <td>83.690147</td>\n",
       "    </tr>\n",
       "    <tr>\n",
       "      <th>201</th>\n",
       "      <td>WN</td>\n",
       "      <td>8</td>\n",
       "      <td>85.011346</td>\n",
       "    </tr>\n",
       "    <tr>\n",
       "      <th>202</th>\n",
       "      <td>WN</td>\n",
       "      <td>9</td>\n",
       "      <td>89.509834</td>\n",
       "    </tr>\n",
       "    <tr>\n",
       "      <th>203</th>\n",
       "      <td>WN</td>\n",
       "      <td>10</td>\n",
       "      <td>90.078226</td>\n",
       "    </tr>\n",
       "    <tr>\n",
       "      <th>204</th>\n",
       "      <td>WN</td>\n",
       "      <td>11</td>\n",
       "      <td>87.671618</td>\n",
       "    </tr>\n",
       "    <tr>\n",
       "      <th>205</th>\n",
       "      <td>WN</td>\n",
       "      <td>12</td>\n",
       "      <td>68.162443</td>\n",
       "    </tr>\n",
       "    <tr>\n",
       "      <th>206</th>\n",
       "      <td>XE</td>\n",
       "      <td>1</td>\n",
       "      <td>73.600890</td>\n",
       "    </tr>\n",
       "    <tr>\n",
       "      <th>207</th>\n",
       "      <td>XE</td>\n",
       "      <td>2</td>\n",
       "      <td>68.596174</td>\n",
       "    </tr>\n",
       "    <tr>\n",
       "      <th>208</th>\n",
       "      <td>XE</td>\n",
       "      <td>3</td>\n",
       "      <td>68.639926</td>\n",
       "    </tr>\n",
       "    <tr>\n",
       "      <th>209</th>\n",
       "      <td>XE</td>\n",
       "      <td>4</td>\n",
       "      <td>77.431528</td>\n",
       "    </tr>\n",
       "    <tr>\n",
       "      <th>210</th>\n",
       "      <td>XE</td>\n",
       "      <td>5</td>\n",
       "      <td>76.930179</td>\n",
       "    </tr>\n",
       "    <tr>\n",
       "      <th>211</th>\n",
       "      <td>XE</td>\n",
       "      <td>6</td>\n",
       "      <td>69.302774</td>\n",
       "    </tr>\n",
       "    <tr>\n",
       "      <th>212</th>\n",
       "      <td>XE</td>\n",
       "      <td>7</td>\n",
       "      <td>76.830135</td>\n",
       "    </tr>\n",
       "    <tr>\n",
       "      <th>213</th>\n",
       "      <td>XE</td>\n",
       "      <td>8</td>\n",
       "      <td>72.859745</td>\n",
       "    </tr>\n",
       "    <tr>\n",
       "      <th>214</th>\n",
       "      <td>XE</td>\n",
       "      <td>9</td>\n",
       "      <td>81.607706</td>\n",
       "    </tr>\n",
       "    <tr>\n",
       "      <th>215</th>\n",
       "      <td>XE</td>\n",
       "      <td>10</td>\n",
       "      <td>82.415439</td>\n",
       "    </tr>\n",
       "    <tr>\n",
       "      <th>216</th>\n",
       "      <td>XE</td>\n",
       "      <td>11</td>\n",
       "      <td>83.639219</td>\n",
       "    </tr>\n",
       "    <tr>\n",
       "      <th>217</th>\n",
       "      <td>XE</td>\n",
       "      <td>12</td>\n",
       "      <td>66.217975</td>\n",
       "    </tr>\n",
       "    <tr>\n",
       "      <th>218</th>\n",
       "      <td>YV</td>\n",
       "      <td>1</td>\n",
       "      <td>69.365101</td>\n",
       "    </tr>\n",
       "    <tr>\n",
       "      <th>219</th>\n",
       "      <td>YV</td>\n",
       "      <td>2</td>\n",
       "      <td>63.586773</td>\n",
       "    </tr>\n",
       "    <tr>\n",
       "      <th>220</th>\n",
       "      <td>YV</td>\n",
       "      <td>3</td>\n",
       "      <td>76.382938</td>\n",
       "    </tr>\n",
       "    <tr>\n",
       "      <th>221</th>\n",
       "      <td>YV</td>\n",
       "      <td>4</td>\n",
       "      <td>73.922216</td>\n",
       "    </tr>\n",
       "    <tr>\n",
       "      <th>222</th>\n",
       "      <td>YV</td>\n",
       "      <td>5</td>\n",
       "      <td>77.843394</td>\n",
       "    </tr>\n",
       "    <tr>\n",
       "      <th>223</th>\n",
       "      <td>YV</td>\n",
       "      <td>6</td>\n",
       "      <td>68.094304</td>\n",
       "    </tr>\n",
       "    <tr>\n",
       "      <th>224</th>\n",
       "      <td>YV</td>\n",
       "      <td>7</td>\n",
       "      <td>71.700530</td>\n",
       "    </tr>\n",
       "    <tr>\n",
       "      <th>225</th>\n",
       "      <td>YV</td>\n",
       "      <td>8</td>\n",
       "      <td>76.508851</td>\n",
       "    </tr>\n",
       "    <tr>\n",
       "      <th>226</th>\n",
       "      <td>YV</td>\n",
       "      <td>9</td>\n",
       "      <td>78.938053</td>\n",
       "    </tr>\n",
       "    <tr>\n",
       "      <th>227</th>\n",
       "      <td>YV</td>\n",
       "      <td>10</td>\n",
       "      <td>81.373640</td>\n",
       "    </tr>\n",
       "    <tr>\n",
       "      <th>228</th>\n",
       "      <td>YV</td>\n",
       "      <td>11</td>\n",
       "      <td>82.069392</td>\n",
       "    </tr>\n",
       "    <tr>\n",
       "      <th>229</th>\n",
       "      <td>YV</td>\n",
       "      <td>12</td>\n",
       "      <td>66.540533</td>\n",
       "    </tr>\n",
       "  </tbody>\n",
       "</table>\n",
       "<p>230 rows × 3 columns</p>\n",
       "</div>"
      ],
      "text/plain": [
       "    UniqueCarrier  Month  percent_on_time\n",
       "0              9E      1        70.036765\n",
       "1              9E      2        64.656321\n",
       "2              9E      3        72.170942\n",
       "3              9E      4        81.109746\n",
       "4              9E      5        86.462273\n",
       "5              9E      6        81.312192\n",
       "6              9E      7        86.158581\n",
       "7              9E      8        90.049403\n",
       "8              9E      9        90.932195\n",
       "9              9E     10        91.168527\n",
       "10             9E     11        85.611342\n",
       "11             9E     12        64.021188\n",
       "12             AA      1        67.294409\n",
       "13             AA      2        62.674318\n",
       "14             AA      3        62.989946\n",
       "15             AA      4        66.388187\n",
       "16             AA      5        68.362441\n",
       "17             AA      6        59.873726\n",
       "18             AA      7        70.461416\n",
       "19             AA      8        71.468056\n",
       "20             AA      9        82.219226\n",
       "21             AA     10        84.472162\n",
       "22             AA     11        85.062009\n",
       "23             AA     12        70.662807\n",
       "24             AQ      1        93.545184\n",
       "25             AQ      2        95.811241\n",
       "26             AS      1        73.964962\n",
       "27             AS      2        77.579532\n",
       "28             AS      3        78.929215\n",
       "29             AS      4        82.463849\n",
       "..            ...    ...              ...\n",
       "200            WN      7        83.690147\n",
       "201            WN      8        85.011346\n",
       "202            WN      9        89.509834\n",
       "203            WN     10        90.078226\n",
       "204            WN     11        87.671618\n",
       "205            WN     12        68.162443\n",
       "206            XE      1        73.600890\n",
       "207            XE      2        68.596174\n",
       "208            XE      3        68.639926\n",
       "209            XE      4        77.431528\n",
       "210            XE      5        76.930179\n",
       "211            XE      6        69.302774\n",
       "212            XE      7        76.830135\n",
       "213            XE      8        72.859745\n",
       "214            XE      9        81.607706\n",
       "215            XE     10        82.415439\n",
       "216            XE     11        83.639219\n",
       "217            XE     12        66.217975\n",
       "218            YV      1        69.365101\n",
       "219            YV      2        63.586773\n",
       "220            YV      3        76.382938\n",
       "221            YV      4        73.922216\n",
       "222            YV      5        77.843394\n",
       "223            YV      6        68.094304\n",
       "224            YV      7        71.700530\n",
       "225            YV      8        76.508851\n",
       "226            YV      9        78.938053\n",
       "227            YV     10        81.373640\n",
       "228            YV     11        82.069392\n",
       "229            YV     12        66.540533\n",
       "\n",
       "[230 rows x 3 columns]"
      ]
     },
     "execution_count": 59,
     "metadata": {},
     "output_type": "execute_result"
    }
   ],
   "source": [
    "df_carrier_ontime"
   ]
  },
  {
   "cell_type": "code",
   "execution_count": 35,
   "metadata": {
    "scrolled": true
   },
   "outputs": [
    {
     "data": {
      "image/png": "[encoded data removed]",
      "text/plain": [
       "<Figure size 432x288 with 1 Axes>"
      ]
     },
     "metadata": {
      "needs_background": "light"
     },
     "output_type": "display_data"
    }
   ],
   "source": [
    "for i in Carrier_list: \n",
    "    plt.plot(df_carrier_ontime[df_carrier_ontime['UniqueCarrier'] == i]['Month'], \n",
    "             df_carrier_ontime[df_carrier_ontime['UniqueCarrier'] == i]['percent_on_time'],\n",
    "            label = i)\n",
    "\n",
    "plt.title('On-time arrival performance by Carrier')\n",
    "plt.ylabel('Percentage of on-time flights (%)')\n",
    "plt.xlabel('2018 Month')\n",
    "plt.ylim(ymin = 0,\n",
    "         ymax = 100)\n",
    "plt.legend(loc='center left', bbox_to_anchor=(1, 0.5))\n",
    "plt.show()"
   ]
  },
  {
   "cell_type": "markdown",
   "metadata": {},
   "source": [
    "All carriers seem to have the same trend by months. There are some differences for some of them, but globaly there is a trend easy to observe."
   ]
  },
  {
   "cell_type": "code",
   "execution_count": 37,
   "metadata": {
    "scrolled": true
   },
   "outputs": [
    {
     "data": {
      "image/png": "[encoded data removed]",
      "text/plain": [
       "<Figure size 432x288 with 1 Axes>"
      ]
     },
     "metadata": {
      "needs_background": "light"
     },
     "output_type": "display_data"
    }
   ],
   "source": [
    "# visualization thanks to a bar chart at a gloabl 2008 level\n",
    "for i in Carrier_list: \n",
    "    plt.bar(df_carrier_ontime['UniqueCarrier'], \n",
    "            df_carrier_ontime['percent_on_time'])\n",
    "\n",
    "plt.title('On-time arrival performance by Carrier')\n",
    "plt.ylabel('Percentage of on-time flights (%)')\n",
    "plt.xlabel('2018 Month')\n",
    "plt.ylim(ymin = 0,\n",
    "         ymax = 100)\n",
    "plt.show()"
   ]
  },
  {
   "cell_type": "markdown",
   "metadata": {},
   "source": [
    "There is perhaps also some variations by origin airport. "
   ]
  },
  {
   "cell_type": "code",
   "execution_count": 38,
   "metadata": {},
   "outputs": [],
   "source": [
    "df_ontime_origin = df_2008.groupby(['Origin', 'on_time']).size().reset_index( name = 'nb_flights')"
   ]
  },
  {
   "cell_type": "code",
   "execution_count": 39,
   "metadata": {},
   "outputs": [],
   "source": [
    "df_ontime_origin = 100 * df_ontime_origin[df_ontime_origin['on_time'] == 1].groupby(['Origin'])['nb_flights'].sum()/df_ontime_origin.groupby(['Origin'])['nb_flights'].sum()"
   ]
  },
  {
   "cell_type": "code",
   "execution_count": 40,
   "metadata": {},
   "outputs": [],
   "source": [
    "df_ontime_origin = df_ontime_origin.reset_index(name = 'percent_on_time')"
   ]
  },
  {
   "cell_type": "code",
   "execution_count": 41,
   "metadata": {},
   "outputs": [],
   "source": [
    "df_ontime_origin = df_ontime_origin.sort_values(by = ['percent_on_time'], ascending = False)\n",
    "df_ontime_origin = df_ontime_origin.head(20)"
   ]
  },
  {
   "cell_type": "code",
   "execution_count": 58,
   "metadata": {},
   "outputs": [
    {
     "data": {
      "text/html": [
       "<div>\n",
       "<style scoped>\n",
       "    .dataframe tbody tr th:only-of-type {\n",
       "        vertical-align: middle;\n",
       "    }\n",
       "\n",
       "    .dataframe tbody tr th {\n",
       "        vertical-align: top;\n",
       "    }\n",
       "\n",
       "    .dataframe thead th {\n",
       "        text-align: right;\n",
       "    }\n",
       "</style>\n",
       "<table border=\"1\" class=\"dataframe\">\n",
       "  <thead>\n",
       "    <tr style=\"text-align: right;\">\n",
       "      <th></th>\n",
       "      <th>Origin</th>\n",
       "      <th>percent_on_time</th>\n",
       "    </tr>\n",
       "  </thead>\n",
       "  <tbody>\n",
       "    <tr>\n",
       "      <th>141</th>\n",
       "      <td>INL</td>\n",
       "      <td>98.611111</td>\n",
       "    </tr>\n",
       "    <tr>\n",
       "      <th>298</th>\n",
       "      <td>WYS</td>\n",
       "      <td>98.484848</td>\n",
       "    </tr>\n",
       "    <tr>\n",
       "      <th>33</th>\n",
       "      <td>BLI</td>\n",
       "      <td>95.833333</td>\n",
       "    </tr>\n",
       "    <tr>\n",
       "      <th>268</th>\n",
       "      <td>SLE</td>\n",
       "      <td>94.855967</td>\n",
       "    </tr>\n",
       "    <tr>\n",
       "      <th>222</th>\n",
       "      <td>PIH</td>\n",
       "      <td>93.309222</td>\n",
       "    </tr>\n",
       "    <tr>\n",
       "      <th>171</th>\n",
       "      <td>LWS</td>\n",
       "      <td>92.944785</td>\n",
       "    </tr>\n",
       "    <tr>\n",
       "      <th>67</th>\n",
       "      <td>COD</td>\n",
       "      <td>91.835017</td>\n",
       "    </tr>\n",
       "    <tr>\n",
       "      <th>214</th>\n",
       "      <td>OXR</td>\n",
       "      <td>91.563467</td>\n",
       "    </tr>\n",
       "    <tr>\n",
       "      <th>228</th>\n",
       "      <td>PSC</td>\n",
       "      <td>91.460055</td>\n",
       "    </tr>\n",
       "    <tr>\n",
       "      <th>261</th>\n",
       "      <td>SGU</td>\n",
       "      <td>91.172040</td>\n",
       "    </tr>\n",
       "    <tr>\n",
       "      <th>134</th>\n",
       "      <td>HTS</td>\n",
       "      <td>91.139241</td>\n",
       "    </tr>\n",
       "    <tr>\n",
       "      <th>32</th>\n",
       "      <td>BJI</td>\n",
       "      <td>90.540541</td>\n",
       "    </tr>\n",
       "    <tr>\n",
       "      <th>43</th>\n",
       "      <td>BTM</td>\n",
       "      <td>90.536723</td>\n",
       "    </tr>\n",
       "    <tr>\n",
       "      <th>145</th>\n",
       "      <td>ITO</td>\n",
       "      <td>90.038505</td>\n",
       "    </tr>\n",
       "    <tr>\n",
       "      <th>288</th>\n",
       "      <td>TUP</td>\n",
       "      <td>90.000000</td>\n",
       "    </tr>\n",
       "    <tr>\n",
       "      <th>123</th>\n",
       "      <td>GTF</td>\n",
       "      <td>89.766355</td>\n",
       "    </tr>\n",
       "    <tr>\n",
       "      <th>164</th>\n",
       "      <td>LIH</td>\n",
       "      <td>89.601032</td>\n",
       "    </tr>\n",
       "    <tr>\n",
       "      <th>89</th>\n",
       "      <td>EKO</td>\n",
       "      <td>89.177215</td>\n",
       "    </tr>\n",
       "    <tr>\n",
       "      <th>146</th>\n",
       "      <td>IYK</td>\n",
       "      <td>88.935282</td>\n",
       "    </tr>\n",
       "    <tr>\n",
       "      <th>30</th>\n",
       "      <td>BIL</td>\n",
       "      <td>88.901221</td>\n",
       "    </tr>\n",
       "  </tbody>\n",
       "</table>\n",
       "</div>"
      ],
      "text/plain": [
       "    Origin  percent_on_time\n",
       "141    INL        98.611111\n",
       "298    WYS        98.484848\n",
       "33     BLI        95.833333\n",
       "268    SLE        94.855967\n",
       "222    PIH        93.309222\n",
       "171    LWS        92.944785\n",
       "67     COD        91.835017\n",
       "214    OXR        91.563467\n",
       "228    PSC        91.460055\n",
       "261    SGU        91.172040\n",
       "134    HTS        91.139241\n",
       "32     BJI        90.540541\n",
       "43     BTM        90.536723\n",
       "145    ITO        90.038505\n",
       "288    TUP        90.000000\n",
       "123    GTF        89.766355\n",
       "164    LIH        89.601032\n",
       "89     EKO        89.177215\n",
       "146    IYK        88.935282\n",
       "30     BIL        88.901221"
      ]
     },
     "execution_count": 58,
     "metadata": {},
     "output_type": "execute_result"
    }
   ],
   "source": [
    "df_ontime_origin"
   ]
  },
  {
   "cell_type": "code",
   "execution_count": 42,
   "metadata": {
    "scrolled": false
   },
   "outputs": [
    {
     "data": {
      "image/png": "[encoded data removed]",
      "text/plain": [
       "<Figure size 432x288 with 1 Axes>"
      ]
     },
     "metadata": {
      "needs_background": "light"
     },
     "output_type": "display_data"
    }
   ],
   "source": [
    "for i in Carrier_list: \n",
    "    plt.bar(df_ontime_origin['Origin'], \n",
    "            df_ontime_origin['percent_on_time'])\n",
    "\n",
    "plt.title('On-time arrival performance by Origin airport')\n",
    "plt.ylabel('Percentage of on-time flights (%)')\n",
    "plt.xlabel('Origin Airport')\n",
    "plt.ylim(ymin = 0,\n",
    "         ymax = 100)\n",
    "plt.show()"
   ]
  },
  {
   "cell_type": "markdown",
   "metadata": {},
   "source": [
    "Or a variation by destination airport ? "
   ]
  },
  {
   "cell_type": "code",
   "execution_count": 43,
   "metadata": {},
   "outputs": [],
   "source": [
    "df_ontime_dest = df_2008.groupby(['Dest', 'on_time']).size().reset_index( name = 'nb_flights')"
   ]
  },
  {
   "cell_type": "code",
   "execution_count": 44,
   "metadata": {},
   "outputs": [],
   "source": [
    "df_ontime_dest = 100 * df_ontime_dest[df_ontime_dest['on_time'] == 1].groupby(['Dest'])['nb_flights'].sum()/df_ontime_dest.groupby(['Dest'])['nb_flights'].sum()"
   ]
  },
  {
   "cell_type": "code",
   "execution_count": 45,
   "metadata": {},
   "outputs": [],
   "source": [
    "df_ontime_dest = df_ontime_dest.reset_index(name = 'percent_on_time')"
   ]
  },
  {
   "cell_type": "code",
   "execution_count": 46,
   "metadata": {},
   "outputs": [],
   "source": [
    "df_ontime_dest = df_ontime_dest.sort_values(by = ['percent_on_time'], ascending = False)\n",
    "df_ontime_dest = df_ontime_dest.head(20)"
   ]
  },
  {
   "cell_type": "code",
   "execution_count": 57,
   "metadata": {},
   "outputs": [
    {
     "data": {
      "text/html": [
       "<div>\n",
       "<style scoped>\n",
       "    .dataframe tbody tr th:only-of-type {\n",
       "        vertical-align: middle;\n",
       "    }\n",
       "\n",
       "    .dataframe tbody tr th {\n",
       "        vertical-align: top;\n",
       "    }\n",
       "\n",
       "    .dataframe thead th {\n",
       "        text-align: right;\n",
       "    }\n",
       "</style>\n",
       "<table border=\"1\" class=\"dataframe\">\n",
       "  <thead>\n",
       "    <tr style=\"text-align: right;\">\n",
       "      <th></th>\n",
       "      <th>Dest</th>\n",
       "      <th>percent_on_time</th>\n",
       "    </tr>\n",
       "  </thead>\n",
       "  <tbody>\n",
       "    <tr>\n",
       "      <th>289</th>\n",
       "      <td>TUP</td>\n",
       "      <td>100.000000</td>\n",
       "    </tr>\n",
       "    <tr>\n",
       "      <th>32</th>\n",
       "      <td>BJI</td>\n",
       "      <td>94.594595</td>\n",
       "    </tr>\n",
       "    <tr>\n",
       "      <th>299</th>\n",
       "      <td>WYS</td>\n",
       "      <td>92.803030</td>\n",
       "    </tr>\n",
       "    <tr>\n",
       "      <th>172</th>\n",
       "      <td>LWS</td>\n",
       "      <td>91.564417</td>\n",
       "    </tr>\n",
       "    <tr>\n",
       "      <th>33</th>\n",
       "      <td>BLI</td>\n",
       "      <td>90.909091</td>\n",
       "    </tr>\n",
       "    <tr>\n",
       "      <th>147</th>\n",
       "      <td>IYK</td>\n",
       "      <td>90.566038</td>\n",
       "    </tr>\n",
       "    <tr>\n",
       "      <th>146</th>\n",
       "      <td>ITO</td>\n",
       "      <td>90.224817</td>\n",
       "    </tr>\n",
       "    <tr>\n",
       "      <th>143</th>\n",
       "      <td>IPL</td>\n",
       "      <td>89.756592</td>\n",
       "    </tr>\n",
       "    <tr>\n",
       "      <th>165</th>\n",
       "      <td>LIH</td>\n",
       "      <td>89.589498</td>\n",
       "    </tr>\n",
       "    <tr>\n",
       "      <th>60</th>\n",
       "      <td>CLD</td>\n",
       "      <td>89.265537</td>\n",
       "    </tr>\n",
       "    <tr>\n",
       "      <th>90</th>\n",
       "      <td>EKO</td>\n",
       "      <td>88.600380</td>\n",
       "    </tr>\n",
       "    <tr>\n",
       "      <th>262</th>\n",
       "      <td>SGU</td>\n",
       "      <td>88.483569</td>\n",
       "    </tr>\n",
       "    <tr>\n",
       "      <th>52</th>\n",
       "      <td>CDC</td>\n",
       "      <td>88.455772</td>\n",
       "    </tr>\n",
       "    <tr>\n",
       "      <th>216</th>\n",
       "      <td>OXR</td>\n",
       "      <td>88.303641</td>\n",
       "    </tr>\n",
       "    <tr>\n",
       "      <th>43</th>\n",
       "      <td>BTM</td>\n",
       "      <td>88.226950</td>\n",
       "    </tr>\n",
       "    <tr>\n",
       "      <th>224</th>\n",
       "      <td>PIH</td>\n",
       "      <td>88.016777</td>\n",
       "    </tr>\n",
       "    <tr>\n",
       "      <th>207</th>\n",
       "      <td>OGG</td>\n",
       "      <td>87.994783</td>\n",
       "    </tr>\n",
       "    <tr>\n",
       "      <th>153</th>\n",
       "      <td>KOA</td>\n",
       "      <td>87.923845</td>\n",
       "    </tr>\n",
       "    <tr>\n",
       "      <th>129</th>\n",
       "      <td>HLN</td>\n",
       "      <td>87.261785</td>\n",
       "    </tr>\n",
       "    <tr>\n",
       "      <th>69</th>\n",
       "      <td>CPR</td>\n",
       "      <td>87.093195</td>\n",
       "    </tr>\n",
       "  </tbody>\n",
       "</table>\n",
       "</div>"
      ],
      "text/plain": [
       "    Dest  percent_on_time\n",
       "289  TUP       100.000000\n",
       "32   BJI        94.594595\n",
       "299  WYS        92.803030\n",
       "172  LWS        91.564417\n",
       "33   BLI        90.909091\n",
       "147  IYK        90.566038\n",
       "146  ITO        90.224817\n",
       "143  IPL        89.756592\n",
       "165  LIH        89.589498\n",
       "60   CLD        89.265537\n",
       "90   EKO        88.600380\n",
       "262  SGU        88.483569\n",
       "52   CDC        88.455772\n",
       "216  OXR        88.303641\n",
       "43   BTM        88.226950\n",
       "224  PIH        88.016777\n",
       "207  OGG        87.994783\n",
       "153  KOA        87.923845\n",
       "129  HLN        87.261785\n",
       "69   CPR        87.093195"
      ]
     },
     "execution_count": 57,
     "metadata": {},
     "output_type": "execute_result"
    }
   ],
   "source": [
    "df_ontime_dest"
   ]
  },
  {
   "cell_type": "code",
   "execution_count": 47,
   "metadata": {
    "scrolled": true
   },
   "outputs": [
    {
     "data": {
      "image/png": "[encoded data removed]",
      "text/plain": [
       "<Figure size 432x288 with 1 Axes>"
      ]
     },
     "metadata": {
      "needs_background": "light"
     },
     "output_type": "display_data"
    }
   ],
   "source": [
    "for i in Carrier_list: \n",
    "    plt.bar(df_ontime_dest['Dest'], \n",
    "            df_ontime_dest['percent_on_time'])\n",
    "\n",
    "plt.title('On-time arrival performance by Destination airport')\n",
    "plt.ylabel('Percentage of on-time flights (%)')\n",
    "plt.xlabel('Destination Airport')\n",
    "plt.ylim(ymin = 0,\n",
    "         ymax = 100)\n",
    "plt.show()"
   ]
  },
  {
   "cell_type": "markdown",
   "metadata": {},
   "source": [
    "is there a correlation between some variables of the dataset ? "
   ]
  },
  {
   "cell_type": "code",
   "execution_count": 50,
   "metadata": {},
   "outputs": [
    {
     "data": {
      "image/png": "[encoded data removed]",
      "text/plain": [
       "<Figure size 432x288 with 2 Axes>"
      ]
     },
     "metadata": {
      "needs_background": "light"
     },
     "output_type": "display_data"
    }
   ],
   "source": [
    "sns.heatmap(df_2008.corr(), \n",
    "            vmin=0, \n",
    "            vmax=1)\n",
    "\n",
    "plt.title('Correlation matrix between some variables')\n",
    "plt.show()"
   ]
  },
  {
   "cell_type": "markdown",
   "metadata": {},
   "source": [
    "There seems to be a high correlation between arrival and departure delay. \n",
    "As I do not see a lof of information on this big matrix, I will focus only on these two variables. "
   ]
  },
  {
   "cell_type": "code",
   "execution_count": 52,
   "metadata": {
    "scrolled": true
   },
   "outputs": [
    {
     "data": {
      "image/png": "[encoded data removed]",
      "text/plain": [
       "<Figure size 432x288 with 2 Axes>"
      ]
     },
     "metadata": {
      "needs_background": "light"
     },
     "output_type": "display_data"
    }
   ],
   "source": [
    "df_cor = df_2008[['ArrDelay', 'DepDelay']]\n",
    "corr = df_cor.corr()\n",
    "\n",
    "sns.heatmap(corr, \n",
    "            xticklabels=corr.columns,\n",
    "            yticklabels=corr.columns, \n",
    "            vmin=0, \n",
    "            vmax=1,\n",
    "            annot=True)\n",
    "\n",
    "plt.title('Correlation matrix between Arrival and Departure Delay')\n",
    "plt.show()"
   ]
  },
  {
   "cell_type": "markdown",
   "metadata": {},
   "source": [
    "The correlation coefficient between these 2 variables is 0,93. \n",
    "When it is higher to 0,75, there is a high correlation between both variables : it is the case here. "
   ]
  },
  {
   "cell_type": "markdown",
   "metadata": {},
   "source": [
    "I would like also to focus a little bit on the reason of delay. \n",
    "In this dataset, delays can have 5 causes which are all detailed in a separate column."
   ]
  },
  {
   "cell_type": "code",
   "execution_count": 56,
   "metadata": {},
   "outputs": [
    {
     "data": {
      "text/plain": [
       "CarrierDelay         24048217.0\n",
       "WeatherDelay          4633717.0\n",
       "NASDelay             26171501.0\n",
       "SecurityDelay          114316.0\n",
       "LateAircraftDelay    31670242.0\n",
       "dtype: float64"
      ]
     },
     "execution_count": 56,
     "metadata": {},
     "output_type": "execute_result"
    }
   ],
   "source": [
    "df_2008[['CarrierDelay', 'WeatherDelay', 'NASDelay', 'SecurityDelay', 'LateAircraftDelay']].sum()"
   ]
  },
  {
   "cell_type": "code",
   "execution_count": 55,
   "metadata": {},
   "outputs": [
    {
     "data": {
      "text/html": [
       "<div>\n",
       "<style scoped>\n",
       "    .dataframe tbody tr th:only-of-type {\n",
       "        vertical-align: middle;\n",
       "    }\n",
       "\n",
       "    .dataframe tbody tr th {\n",
       "        vertical-align: top;\n",
       "    }\n",
       "\n",
       "    .dataframe thead th {\n",
       "        text-align: right;\n",
       "    }\n",
       "</style>\n",
       "<table border=\"1\" class=\"dataframe\">\n",
       "  <thead>\n",
       "    <tr style=\"text-align: right;\">\n",
       "      <th></th>\n",
       "      <th>CarrierDelay</th>\n",
       "      <th>WeatherDelay</th>\n",
       "      <th>NASDelay</th>\n",
       "      <th>SecurityDelay</th>\n",
       "      <th>LateAircraftDelay</th>\n",
       "    </tr>\n",
       "    <tr>\n",
       "      <th>Month</th>\n",
       "      <th></th>\n",
       "      <th></th>\n",
       "      <th></th>\n",
       "      <th></th>\n",
       "      <th></th>\n",
       "    </tr>\n",
       "  </thead>\n",
       "  <tbody>\n",
       "    <tr>\n",
       "      <th>1</th>\n",
       "      <td>2355954.0</td>\n",
       "      <td>429828.0</td>\n",
       "      <td>2422180.0</td>\n",
       "      <td>12912.0</td>\n",
       "      <td>3145788.0</td>\n",
       "    </tr>\n",
       "    <tr>\n",
       "      <th>2</th>\n",
       "      <td>2398296.0</td>\n",
       "      <td>544326.0</td>\n",
       "      <td>2572644.0</td>\n",
       "      <td>11361.0</td>\n",
       "      <td>3495284.0</td>\n",
       "    </tr>\n",
       "    <tr>\n",
       "      <th>3</th>\n",
       "      <td>2527895.0</td>\n",
       "      <td>474687.0</td>\n",
       "      <td>2487133.0</td>\n",
       "      <td>15117.0</td>\n",
       "      <td>3344243.0</td>\n",
       "    </tr>\n",
       "    <tr>\n",
       "      <th>4</th>\n",
       "      <td>1926766.0</td>\n",
       "      <td>268806.0</td>\n",
       "      <td>1964005.0</td>\n",
       "      <td>7645.0</td>\n",
       "      <td>2277313.0</td>\n",
       "    </tr>\n",
       "    <tr>\n",
       "      <th>5</th>\n",
       "      <td>1722631.0</td>\n",
       "      <td>240013.0</td>\n",
       "      <td>1996671.0</td>\n",
       "      <td>9751.0</td>\n",
       "      <td>2244264.0</td>\n",
       "    </tr>\n",
       "    <tr>\n",
       "      <th>6</th>\n",
       "      <td>2482267.0</td>\n",
       "      <td>571832.0</td>\n",
       "      <td>3226918.0</td>\n",
       "      <td>10614.0</td>\n",
       "      <td>3580641.0</td>\n",
       "    </tr>\n",
       "    <tr>\n",
       "      <th>7</th>\n",
       "      <td>2417097.0</td>\n",
       "      <td>555794.0</td>\n",
       "      <td>2716037.0</td>\n",
       "      <td>13126.0</td>\n",
       "      <td>3062892.0</td>\n",
       "    </tr>\n",
       "    <tr>\n",
       "      <th>8</th>\n",
       "      <td>2130584.0</td>\n",
       "      <td>398906.0</td>\n",
       "      <td>2068748.0</td>\n",
       "      <td>7414.0</td>\n",
       "      <td>2490422.0</td>\n",
       "    </tr>\n",
       "    <tr>\n",
       "      <th>9</th>\n",
       "      <td>1218688.0</td>\n",
       "      <td>157032.0</td>\n",
       "      <td>1177489.0</td>\n",
       "      <td>4823.0</td>\n",
       "      <td>1075911.0</td>\n",
       "    </tr>\n",
       "    <tr>\n",
       "      <th>10</th>\n",
       "      <td>1145054.0</td>\n",
       "      <td>105092.0</td>\n",
       "      <td>1102384.0</td>\n",
       "      <td>5285.0</td>\n",
       "      <td>1149195.0</td>\n",
       "    </tr>\n",
       "    <tr>\n",
       "      <th>11</th>\n",
       "      <td>1121975.0</td>\n",
       "      <td>139442.0</td>\n",
       "      <td>1527896.0</td>\n",
       "      <td>4087.0</td>\n",
       "      <td>1525169.0</td>\n",
       "    </tr>\n",
       "    <tr>\n",
       "      <th>12</th>\n",
       "      <td>2601010.0</td>\n",
       "      <td>747959.0</td>\n",
       "      <td>2909396.0</td>\n",
       "      <td>12181.0</td>\n",
       "      <td>4279120.0</td>\n",
       "    </tr>\n",
       "  </tbody>\n",
       "</table>\n",
       "</div>"
      ],
      "text/plain": [
       "       CarrierDelay  WeatherDelay   NASDelay  SecurityDelay  LateAircraftDelay\n",
       "Month                                                                         \n",
       "1         2355954.0      429828.0  2422180.0        12912.0          3145788.0\n",
       "2         2398296.0      544326.0  2572644.0        11361.0          3495284.0\n",
       "3         2527895.0      474687.0  2487133.0        15117.0          3344243.0\n",
       "4         1926766.0      268806.0  1964005.0         7645.0          2277313.0\n",
       "5         1722631.0      240013.0  1996671.0         9751.0          2244264.0\n",
       "6         2482267.0      571832.0  3226918.0        10614.0          3580641.0\n",
       "7         2417097.0      555794.0  2716037.0        13126.0          3062892.0\n",
       "8         2130584.0      398906.0  2068748.0         7414.0          2490422.0\n",
       "9         1218688.0      157032.0  1177489.0         4823.0          1075911.0\n",
       "10        1145054.0      105092.0  1102384.0         5285.0          1149195.0\n",
       "11        1121975.0      139442.0  1527896.0         4087.0          1525169.0\n",
       "12        2601010.0      747959.0  2909396.0        12181.0          4279120.0"
      ]
     },
     "execution_count": 55,
     "metadata": {},
     "output_type": "execute_result"
    }
   ],
   "source": [
    "df_2008.groupby('Month')[['CarrierDelay', 'WeatherDelay', 'NASDelay', 'SecurityDelay', 'LateAircraftDelay']].sum()"
   ]
  },
  {
   "cell_type": "code",
   "execution_count": 54,
   "metadata": {
    "scrolled": false
   },
   "outputs": [
    {
     "data": {
      "image/png": "[encoded data removed]",
      "text/plain": [
       "<Figure size 432x288 with 1 Axes>"
      ]
     },
     "metadata": {
      "needs_background": "light"
     },
     "output_type": "display_data"
    }
   ],
   "source": [
    "sns.barplot(data= df_2008.groupby('Month')[['CarrierDelay', 'WeatherDelay', 'NASDelay', 'SecurityDelay', 'LateAircraftDelay']].sum())\n",
    "\n",
    "plt.title('The Reason of Delay')\n",
    "plt.xticks(rotation='30')\n",
    "\n",
    "plt.show()"
   ]
  },
  {
   "cell_type": "code",
   "execution_count": 47,
   "metadata": {},
   "outputs": [
    {
     "data": {
      "text/plain": [
       "0    6872294\n",
       "1     137434\n",
       "Name: Cancelled, dtype: int64"
      ]
     },
     "execution_count": 47,
     "metadata": {},
     "output_type": "execute_result"
    }
   ],
   "source": [
    "df_2008['Cancelled'].value_counts()"
   ]
  },
  {
   "cell_type": "markdown",
   "metadata": {},
   "source": [
    "What could be the cancellation flights cause ? "
   ]
  },
  {
   "cell_type": "code",
   "execution_count": 63,
   "metadata": {},
   "outputs": [
    {
     "data": {
      "text/html": [
       "<div>\n",
       "<style scoped>\n",
       "    .dataframe tbody tr th:only-of-type {\n",
       "        vertical-align: middle;\n",
       "    }\n",
       "\n",
       "    .dataframe tbody tr th {\n",
       "        vertical-align: top;\n",
       "    }\n",
       "\n",
       "    .dataframe thead th {\n",
       "        text-align: right;\n",
       "    }\n",
       "</style>\n",
       "<table border=\"1\" class=\"dataframe\">\n",
       "  <thead>\n",
       "    <tr style=\"text-align: right;\">\n",
       "      <th>CancellationCode</th>\n",
       "      <th>B</th>\n",
       "      <th>A</th>\n",
       "      <th>C</th>\n",
       "    </tr>\n",
       "    <tr>\n",
       "      <th>Year</th>\n",
       "      <th></th>\n",
       "      <th></th>\n",
       "      <th></th>\n",
       "    </tr>\n",
       "  </thead>\n",
       "  <tbody>\n",
       "    <tr>\n",
       "      <th>2008</th>\n",
       "      <td>54904</td>\n",
       "      <td>54330</td>\n",
       "      <td>28188</td>\n",
       "    </tr>\n",
       "  </tbody>\n",
       "</table>\n",
       "</div>"
      ],
      "text/plain": [
       "CancellationCode      B      A      C\n",
       "Year                                 \n",
       "2008              54904  54330  28188"
      ]
     },
     "execution_count": 63,
     "metadata": {},
     "output_type": "execute_result"
    }
   ],
   "source": [
    "df_2008['CancellationCode'].groupby(df_2008['Year']).value_counts().groupby(level=[0]).nlargest(3).reset_index(level=0, drop=True).unstack(fill_value=0)"
   ]
  },
  {
   "cell_type": "code",
   "execution_count": 65,
   "metadata": {},
   "outputs": [],
   "source": [
    "df_cancel = df_2008['CancellationCode'].groupby(df_2008['Year']).value_counts().groupby(level=[0]).nlargest(3).reset_index(level=0, drop=True).unstack(fill_value=0)\n",
    "df_cancel_month = df_2008['CancellationCode'].groupby(df_2008['Month']).value_counts().groupby(level=[0]).nlargest(3).reset_index(level=0, drop=True).unstack(fill_value=0)"
   ]
  },
  {
   "cell_type": "markdown",
   "metadata": {},
   "source": [
    "In the dataset, cancellation reason are indicated by a cancellation code. For being meaningfull, I will replace these letters by the real reasons.  "
   ]
  },
  {
   "cell_type": "code",
   "execution_count": 66,
   "metadata": {},
   "outputs": [],
   "source": [
    "df_cancel.rename(columns = {\"A\": \"Carrier\", 'B' : 'Weather', 'C': 'NAS', 'D': 'Security'}, inplace = True)\n",
    "df_cancel_month.rename(columns = {\"A\": \"Carrier\", 'B' : 'Weather', 'C': 'NAS', 'D': 'Security'}, inplace = True)"
   ]
  },
  {
   "cell_type": "code",
   "execution_count": 67,
   "metadata": {
    "scrolled": true
   },
   "outputs": [
    {
     "data": {
      "image/png": "[encoded data removed]",
      "text/plain": [
       "<Figure size 720x360 with 1 Axes>"
      ]
     },
     "metadata": {
      "needs_background": "light"
     },
     "output_type": "display_data"
    }
   ],
   "source": [
    "df_cancel.plot(kind = 'bar', \n",
    "                sort_columns= 'CancellationCode',  \n",
    "                figsize=(10,5));\n",
    "plt.legend(bbox_to_anchor=(1, 0.5), \n",
    "           title = 'Cancellation Reason')\n",
    "plt.xlabel('')\n",
    "plt.ylabel('Number of cancelled flights')\n",
    "plt.title('Cancellation flights by cancellation code');\n",
    "\n",
    "plt.show()"
   ]
  },
  {
   "cell_type": "code",
   "execution_count": 69,
   "metadata": {
    "scrolled": true
   },
   "outputs": [
    {
     "data": {
      "image/png": "[encoded data removed]",
      "text/plain": [
       "<Figure size 720x360 with 1 Axes>"
      ]
     },
     "metadata": {
      "needs_background": "light"
     },
     "output_type": "display_data"
    }
   ],
   "source": [
    "df_cancel_month.plot(kind = 'bar', \n",
    "                sort_columns= 'CancellationCode',  \n",
    "                figsize=(10,5));\n",
    "plt.legend(bbox_to_anchor=(1, 0.5), \n",
    "           title = 'Cancellation Reason')\n",
    "plt.xlabel('2008 Month')\n",
    "plt.ylabel('Number of cancelled flights')\n",
    "plt.title('Cancellation flights by cancellation code and months');\n",
    "\n",
    "plt.show()"
   ]
  },
  {
   "cell_type": "markdown",
   "metadata": {},
   "source": [
    "  "
   ]
  }
 ],
 "metadata": {
  "kernelspec": {
   "display_name": "Python 3",
   "language": "python",
   "name": "python3"
  },
  "language_info": {
   "codemirror_mode": {
    "name": "ipython",
    "version": 3
   },
   "file_extension": ".py",
   "mimetype": "text/x-python",
   "name": "python",
   "nbconvert_exporter": "python",
   "pygments_lexer": "ipython3",
   "version": "3.7.3"
  }
 },
 "nbformat": 4,
 "nbformat_minor": 2
}
